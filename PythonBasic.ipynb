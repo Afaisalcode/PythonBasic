{
  "nbformat": 4,
  "nbformat_minor": 0,
  "metadata": {
    "colab": {
      "provenance": []
    },
    "kernelspec": {
      "name": "python3",
      "display_name": "Python 3"
    },
    "language_info": {
      "name": "python"
    }
  },
  "cells": [
    {
      "cell_type": "code",
      "execution_count": null,
      "metadata": {
        "id": "uu7samyjSDxx"
      },
      "outputs": [],
      "source": []
    },
    {
      "cell_type": "markdown",
      "source": [],
      "metadata": {
        "id": "8zzxZ7J0h4Pg"
      }
    },
    {
      "cell_type": "markdown",
      "source": [
        "#Practical question"
      ],
      "metadata": {
        "id": "TjPIenr3mCIF"
      }
    },
    {
      "cell_type": "code",
      "source": [
        "# 1. Write a Python program to print \"Hello, World!\"\n",
        "print (\"Hello world\")"
      ],
      "metadata": {
        "id": "xsfmhqO3h52O"
      },
      "execution_count": null,
      "outputs": []
    },
    {
      "cell_type": "code",
      "source": [
        "# 2. Write a Python program that displays your name and age.\n",
        "\n",
        "name = \"Arif faisal\"\n",
        "age = 26\n",
        "print(f\"My name is {name} and I am {age} years old.\")"
      ],
      "metadata": {
        "id": "3qwWYI1kkkMc"
      },
      "execution_count": null,
      "outputs": []
    },
    {
      "cell_type": "code",
      "source": [
        "# 3. Write code to print all the pre-defined keywords in Python using the keyword library.\n",
        "import keyword\n",
        "print(keyword.kwlist)"
      ],
      "metadata": {
        "id": "8BzFxq1ElIj4"
      },
      "execution_count": null,
      "outputs": []
    },
    {
      "cell_type": "code",
      "source": [
        "# 4. Write a program that checks if a given word is a Python keyword.\n",
        "import keyword\n",
        "\n",
        "word = \"if\"\n",
        "if keyword.iskeyword(word):\n",
        "    print(f\"'{word}' is a Python keyword\")\n",
        "else:\n",
        "    print(f\"'{word}' is not a Python keyword\")"
      ],
      "metadata": {
        "id": "5RMIH151m-TR"
      },
      "execution_count": null,
      "outputs": []
    },
    {
      "cell_type": "code",
      "source": [
        "#5. Create a list and tuple in Python, and demonstrate how attempting to change an element works differently for each.\n",
        "\n",
        "my_list = [1, 2, 3]\n",
        "my_tuple = (1, 2, 3)\n",
        "\n",
        "my_list[0] = 10\n",
        "print(\"Modified list:\", my_list)"
      ],
      "metadata": {
        "id": "YBY6K-0Vnb7v"
      },
      "execution_count": null,
      "outputs": []
    },
    {
      "cell_type": "code",
      "source": [
        "# 6.  Write a function to demonstrate the behavior of mutable and immutable arguments.\n",
        "\n",
        "def modify_args(mutable_arg, immutable_arg):\n",
        "    print(\"Inside function - before modification:\")\n",
        "    print(\"Mutable:\", mutable_arg)\n",
        "    print(\"Immutable:\", immutable_arg)\n",
        "\n",
        "    mutable_arg.append(4)  # Modifies the original list\n",
        "    immutable_arg += \" world\"  # Creates a new string\n",
        "\n",
        "    print(\"Inside function - after modification:\")\n",
        "    print(\"Mutable:\", mutable_arg)\n",
        "    print(\"Immutable:\", immutable_arg)\n",
        "\n",
        "my_list = [1, 2, 3]\n",
        "my_string = \"hello\"\n",
        "modify_args(my_list, my_string)\n",
        "print(\"Outside function:\")\n",
        "print(\"Mutable:\", my_list)  # Shows modification\n",
        "print(\"Immutable:\", my_string)  # Original unchanged"
      ],
      "metadata": {
        "id": "9uIRHDjkntp0"
      },
      "execution_count": null,
      "outputs": []
    },
    {
      "cell_type": "code",
      "source": [
        "# 8. Write a program to demonstrate the use of logical operators.\n",
        " a = True\n",
        " b = False\n",
        "\n",
        "print(\"a and b:\", a and b)\n",
        "print(\"a or b:\", a or b)\n",
        "print(\"not a:\", not a)"
      ],
      "metadata": {
        "id": "QM66HRqNoxEB"
      },
      "execution_count": null,
      "outputs": []
    },
    {
      "cell_type": "code",
      "source": [
        "# 9. Write a Python program to convert user input from string to integer, float, and boolean types.\n",
        " user_input = input(\"Enter a value: \")\n",
        "\n",
        "# Convert to integer\n",
        "    int_val = int(user_input)\n",
        "    print(\"As integer:\", int_val)\n",
        "# Convert to float\n",
        "    float_val = float(user_input)\n",
        "    print(\"As float:\", float_val)\n",
        "# Convert to boolean\n",
        "    bool_val = bool(user_input)\n",
        "    print(\"As boolean:\", bool_val)"
      ],
      "metadata": {
        "id": "enIZMMi4pRoC"
      },
      "execution_count": null,
      "outputs": []
    },
    {
      "cell_type": "code",
      "source": [
        "# 10. Write code to demonstrate type casting with list elements.\n",
        " my_list = [\"1\", \"2\", \"3\"]\n",
        "# Convert list of strings to list of integers\n",
        "int_list = [int(x) for x in my_list]\n",
        "print(\"As integers:\", int_list)\n"
      ],
      "metadata": {
        "id": "KNtZEl53qArV"
      },
      "execution_count": null,
      "outputs": []
    },
    {
      "cell_type": "code",
      "source": [
        "# 11. Write a program that checks if a number is positive, negative, or zero0.\n",
        " num = float(input(\"Enter a number: \"))\n",
        "\n",
        "if num > 0:\n",
        "    print(\"Positive number\")\n",
        "elif num < 0:\n",
        "    print(\"Negative number\")\n",
        "else:\n",
        "    print(\"Zero\")\n"
      ],
      "metadata": {
        "id": "fyu0Bi5Eqo6l"
      },
      "execution_count": null,
      "outputs": []
    },
    {
      "cell_type": "code",
      "source": [
        "# 12. Write a for loop to print numbers from 1 to 10.\n",
        " or i in range(1, 11):\n",
        "    print(i)"
      ],
      "metadata": {
        "id": "EvsUWSBMq2zO"
      },
      "execution_count": null,
      "outputs": []
    },
    {
      "cell_type": "code",
      "source": [
        "# 13. Write a Python program to find the sum of all even numbers between 1 and 50.\n",
        " total = 0\n",
        "for num in range(2, 51, 2):\n",
        "    total += num\n",
        "print(\"Sum of even numbers from 1 to 50:\", total)"
      ],
      "metadata": {
        "id": "4f_9vkOsrFtC"
      },
      "execution_count": null,
      "outputs": []
    },
    {
      "cell_type": "code",
      "source": [
        "# 14.  Write a program to reverse a string using a while loop.\n",
        "      text = \"hello\"\n",
        "reversed_text = \"\"\n",
        "index = len(text) - 1\n",
        "\n",
        "while index >= 0:\n",
        "    reversed_text += text[index]\n",
        "    index -= 1\n",
        "\n",
        "print(\"Original:\", text)\n",
        "print(\"Reversed:\", reversed_text)"
      ],
      "metadata": {
        "id": "1Rq95e3MrU7p"
      },
      "execution_count": null,
      "outputs": []
    },
    {
      "cell_type": "code",
      "source": [
        "# 15. Write a Python program to calculate the factorial of a number provided by the user using a while loop.\n",
        "  num = int(input(\"Enter a number: \"))\n",
        "factorial = 1\n",
        "i = 1\n",
        "\n",
        "while i <= num:\n",
        "    factorial *= i\n",
        "    i += 1\n",
        "\n",
        "print(f\"Factorial of {num} is {factorial}\")"
      ],
      "metadata": {
        "id": "ifSQg2ZDri6j"
      },
      "execution_count": null,
      "outputs": []
    },
    {
      "cell_type": "markdown",
      "source": [
        "#Python basic question\n",
        "\n",
        "1. What is Python, and why is it popular?\n",
        "\n",
        "  - Python is a simple, easy-to-learn programming language used for web development, data science, AI, and more.\n",
        "\n",
        "     Popular because\n",
        "\n",
        "     Easy to read and write\n",
        "\n",
        "     Works on different platforms\n",
        "\n",
        "     Has lots of free libraries\n",
        "\n",
        "     Great for beginners and experts\n",
        "\n",
        "2. What is an interpreter in Python?\n",
        "  - An interpreter executes Python code line by line, converting it to machine code on the fly.\n",
        "\n",
        "3. What are pre-defined keywords in Python?\n",
        "  - Keywords are reserved words with special meanings (e.g., if, else, for, while).\n",
        "\n",
        "4. Can keywords be used as variable names?\n",
        "-  No, keywords cannot be used as variable names (e.g., if = 5 will cause a SyntaxError).\n",
        "\n",
        "5. What is mutability in Python?\n",
        "  - Mutability refers to whether an object can be changed after creation.\n",
        "\n",
        "     Mutable: Lists, dictionaries, sets\n",
        "\n",
        "     Immutable: Tuples, strings, integers\n",
        "\n",
        "6. Why are lists mutable, but tuples are immutable?\n",
        "   - Lists use dynamic memory allocation, allowing modifications. Tuples are\n",
        "     \n",
        "     fixed for safety and performance.\n",
        "\n",
        "7. What is the difference between “==” and “is” operators in Python?\n",
        "  - (==) checks value equality.\n",
        "\n",
        "     (is) checks memory identity (same object).\n",
        "\n",
        "8. What are logical operators in Python?\n",
        "  - and, or, not\n",
        "\n",
        "9. What is type casting in Python?\n",
        "\n",
        "  - Converting one data type into other\n",
        "\n",
        "10. What is the difference between implicit and explicit type casting?  \n",
        "  - Implicit: Python auto-converts (e.g., 3 + 4.5 → float).\n",
        "\n",
        "     Explicit: Manual conversion (e.g., int(\"10\")).\n",
        "\n",
        "11. What is the purpose of conditional statements in Python?\n",
        "   - Conditional statements in python control the flow of a program by executing different code blocks based on weather condition is True or False.\n",
        "   They enable decision making, making program more dynamic and responsive.\n",
        "\n",
        "12. How does the elif statement work?\n",
        "  - The elif statement in python allow multiple conditions to be checked sequentially. if the if is false elif runs the first True condition. if none are True, else executes.\n",
        "\n",
        "13. What is the difference between for and while loops?\n",
        "   - for loop: Iterates over a sequence (e.g., list, string).\n",
        "\n",
        "     while loop: Runs until a condition is False.\n",
        "\n",
        "14. Describe a scenario where a while loop is more suitable than a for loop.\n",
        "  - A while loop is more suitable than a for loop when the number of iterations is not predetermined and depends on a condition that may change dynamically during execution. This is useful in situations where the loop should continue running until a specific condition is met, rather than iterating over a fixed sequence or range.\n",
        "\n",
        "\n",
        "  \n"
      ],
      "metadata": {
        "id": "T3lk_2ioSFU-"
      }
    },
    {
      "cell_type": "markdown",
      "source": [],
      "metadata": {
        "id": "EaqbjzyxhtD1"
      }
    },
    {
      "cell_type": "markdown",
      "source": [
        "1. #Write a Python program to print \"Hello, World!"
      ],
      "metadata": {
        "id": "ffyc4SeHgwnI"
      }
    }
  ]
}